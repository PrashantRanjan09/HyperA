{
  "nbformat": 4,
  "nbformat_minor": 0,
  "metadata": {
    "colab": {
      "name": "baseline_lstm.ipynb",
      "version": "0.3.2",
      "provenance": [],
      "collapsed_sections": [],
      "include_colab_link": true
    },
    "kernelspec": {
      "name": "python3",
      "display_name": "Python 3"
    },
    "accelerator": "GPU"
  },
  "cells": [
    {
      "cell_type": "markdown",
      "metadata": {
        "id": "view-in-github",
        "colab_type": "text"
      },
      "source": [
        "<a href=\"https://colab.research.google.com/github/dhruvdcoder/HyperA/blob/master/Baseline/baseline_lstm.ipynb\" target=\"_parent\"><img src=\"https://colab.research.google.com/assets/colab-badge.svg\" alt=\"Open In Colab\"/></a>"
      ]
    },
    {
      "metadata": {
        "id": "Xu3H6evzrjai",
        "colab_type": "code",
        "colab": {}
      },
      "cell_type": "code",
      "source": [
        "import torch\n",
        "from torchtext import data,datasets"
      ],
      "execution_count": 0,
      "outputs": []
    },
    {
      "metadata": {
        "id": "hbK3nwV3AYh1",
        "colab_type": "code",
        "colab": {}
      },
      "cell_type": "code",
      "source": [
        "device = torch.device(\"cuda:0\")"
      ],
      "execution_count": 0,
      "outputs": []
    },
    {
      "metadata": {
        "id": "XGnoTyrBeizU",
        "colab_type": "code",
        "colab": {}
      },
      "cell_type": "code",
      "source": [
        "inputs = data.Field(tokenize='spacy')\n",
        "answers = data.Field(sequential=False)"
      ],
      "execution_count": 0,
      "outputs": []
    },
    {
      "metadata": {
        "id": "AWzaZm_GhNO4",
        "colab_type": "code",
        "colab": {}
      },
      "cell_type": "code",
      "source": [
        "train, dev, test = datasets.MultiNLI.splits(inputs, answers)"
      ],
      "execution_count": 0,
      "outputs": []
    },
    {
      "metadata": {
        "id": "xtA801Q2dxwz",
        "colab_type": "code",
        "outputId": "9d4f6635-6ce7-4cf6-ba3a-84cfd22fbe40",
        "colab": {
          "base_uri": "https://localhost:8080/",
          "height": 53
        }
      },
      "cell_type": "code",
      "source": [
        "inputs.build_vocab(train, dev, test)\n",
        "inputs.vocab.load_vectors('glove.6B.100d')\n",
        "answers.build_vocab(train)\n",
        "\n",
        "train_iter, dev_iter, test_iter = data.BucketIterator.splits((train, dev, test), batch_size=128, device=device)"
      ],
      "execution_count": 0,
      "outputs": [
        {
          "output_type": "stream",
          "text": [
            ".vector_cache/glove.6B.zip: 862MB [01:32, 13.1MB/s]                           \n",
            " 99%|█████████▉| 397614/400000 [00:15<00:00, 26161.32it/s]"
          ],
          "name": "stderr"
        }
      ]
    },
    {
      "metadata": {
        "id": "gmAHTXnUqGcP",
        "colab_type": "code",
        "colab": {}
      },
      "cell_type": "code",
      "source": [
        "import time\n",
        "import torch.optim as optim\n",
        "\n",
        "def train(model):\n",
        "  criterion = nn.CrossEntropyLoss()\n",
        "  optimizer = optim.Adam(model.parameters(), lr=0.001, weight_decay=1e-5)\n",
        "\n",
        "  iterations = 0\n",
        "  start = time.time()\n",
        "  best_dev_acc = -1\n",
        "  header = '  Time Epoch Iteration Progress    (%Epoch)   Loss   Dev/Loss     Accuracy  Dev/Accuracy'\n",
        "  dev_log_template = ' '.join('{:>6.0f},{:>5.0f},{:>9.0f},{:>5.0f}/{:<5.0f} {:>7.0f}%,{:>8.6f},{:8.6f},{:12.4f},{:12.4f}'.split(','))\n",
        "  log_template =     ' '.join('{:>6.0f},{:>5.0f},{:>9.0f},{:>5.0f}/{:<5.0f} {:>7.0f}%,{:>8.6f},{},{:12.4f},{}'.split(','))\n",
        "  print(header)\n",
        "\n",
        "  for epoch in range(50):\n",
        "    train_iter.init_epoch()\n",
        "    n_correct, n_total = 0, 0\n",
        "    for batch_idx, batch in enumerate(train_iter):\n",
        "\n",
        "        # switch model to training mode, clear gradient accumulators\n",
        "        model.train(); optimizer.zero_grad()\n",
        "\n",
        "        iterations += 1\n",
        "\n",
        "        # forward pass\n",
        "        answer = model(batch)\n",
        "\n",
        "        # calculate accuracy of predictions in the current batch\n",
        "        n_correct += (torch.max(answer, 1)[1].view(batch.label.size()) == batch.label).sum().item()\n",
        "        n_total += batch.batch_size\n",
        "        train_acc = 100. * n_correct/n_total\n",
        "\n",
        "        # calculate loss of the network output with respect to training labels\n",
        "        loss = criterion(answer, batch.label)\n",
        "\n",
        "        # backpropagate and update optimizer learning rate\n",
        "        loss.backward(); optimizer.step()\n",
        "\n",
        "        if iterations % 1000 == 0:\n",
        "\n",
        "          # print progress message\n",
        "          print(log_template.format(time.time()-start, epoch, iterations, 1+batch_idx, len(train_iter), \n",
        "                                    100. * (1+batch_idx) / len(train_iter), loss.item(), ' '*8, n_correct/n_total*100, ' '*12))\n",
        "\n",
        "    # switch model to evaluation mode\n",
        "    model.eval(); dev_iter.init_epoch()\n",
        "\n",
        "    # calculate accuracy on validation set\n",
        "    n_dev_correct, dev_loss = 0, 0\n",
        "    with torch.no_grad():\n",
        "      for dev_batch_idx, dev_batch in enumerate(dev_iter):\n",
        "        answer = model(dev_batch)\n",
        "        n_dev_correct += (torch.max(answer, 1)[1].view(dev_batch.label.size()) == dev_batch.label).sum().item()\n",
        "        dev_loss = criterion(answer, dev_batch.label)\n",
        "    dev_acc = 100. * n_dev_correct / len(dev)\n",
        "\n",
        "    print(dev_log_template.format(time.time()-start,\n",
        "        epoch, iterations, 1+batch_idx, len(train_iter),\n",
        "        100. * (1+batch_idx) / len(train_iter), loss.item(), dev_loss.item(), train_acc, dev_acc))"
      ],
      "execution_count": 0,
      "outputs": []
    },
    {
      "metadata": {
        "id": "4I_PvMnVho0x",
        "colab_type": "code",
        "colab": {}
      },
      "cell_type": "code",
      "source": [
        "import torch.nn as nn\n",
        "\n",
        "class Encoder(nn.Module):\n",
        "  def __init__(self,config):\n",
        "    super(Encoder, self).__init__()\n",
        "    self.config = config\n",
        "    input_size = config['d_embed']\n",
        "#     self.rnn = nn.RNN(input_size=input_size, hidden_size=config['d_hidden'],num_layers=config['n_layers'])\n",
        "    self.rnn = nn.LSTM(input_size=input_size, hidden_size=config['d_hidden'],num_layers=config['n_layers'])\n",
        "  \n",
        "  def forward(self,inputs):\n",
        "    #bsz = inputs.size()[1] \n",
        "    #h0 = c0 = inputs.new_zeros(config['n_layers'], bsz, config['d_hidden'])\n",
        "#     outputs, hidden = self.rnn(inputs)\n",
        "    outputs, (hidden,cell) = self.rnn(inputs)\n",
        "    return outputs[-1]\n",
        "\n",
        "class MultiNLIClassifier(nn.Module):\n",
        "  def __init__(self,config):\n",
        "    super(MultiNLIClassifier, self).__init__()\n",
        "    self.config = config\n",
        "    self.embed = nn.Embedding(config['n_embed'], config['d_embed'])\n",
        "    self.encoder = Encoder(config)\n",
        "#     self.relu = nn.ReLU()\n",
        "    self.out = nn.Linear(2*config['d_hidden'], config['d_out'])\n",
        "  \n",
        "  def forward(self,batch):\n",
        "    pre_emb = self.embed(batch.premise)\n",
        "    hyp_emb = self.embed(batch.hypothesis)\n",
        "    if self.config['freeze_emb']:\n",
        "      pre_emb =pre_emb.detach()\n",
        "      hyp_emb =hyp_emb.detach()\n",
        "    prem = self.encoder(pre_emb)\n",
        "    hypo = self.encoder(hyp_emb)\n",
        "    logits = self.out(torch.cat([prem,hypo],1))\n",
        "\n",
        "    return logits"
      ],
      "execution_count": 0,
      "outputs": []
    },
    {
      "metadata": {
        "id": "b5-tAtQY1sLu",
        "colab_type": "code",
        "colab": {}
      },
      "cell_type": "code",
      "source": [
        "import torch.nn as nn\n",
        "\n",
        "class Encoder(nn.Module):\n",
        "  def __init__(self,config):\n",
        "    super(Encoder, self).__init__()\n",
        "    self.config = config\n",
        "    #self.rnn = nn.RNN(input_size=config['d_embed'], hidden_size=config['d_hidden'],num_layers=config['n_layers'])\n",
        "    self.rnn = nn.LSTM(input_size=config['d_embed'], hidden_size=config['d_hidden'],num_layers=config['n_layers'])\n",
        "  \n",
        "  def forward(self,inputs):\n",
        "    #bsz = inputs.size()[1]\n",
        "    #outputs, hidden = self.rnn(inputs)\n",
        "    outputs, (hidden,cell) = self.rnn(inputs)\n",
        "    return outputs\n",
        "  \n",
        "class MultiNLIClassifier(nn.Module):\n",
        "  def __init__(self,config):\n",
        "    super(MultiNLIClassifier, self).__init__()\n",
        "    self.config = config\n",
        "    self.embed = nn.Embedding(config['n_embed'], config['d_embed'])\n",
        "    self.encoder = Encoder(config)\n",
        "    \n",
        "#     self.tanh = nn.Tanh()\n",
        "#     self.proj_p = nn.Linear(config['d_hidden'], config['d_hidden'])\n",
        "#     self.proj_h = nn.Linear(config['d_hidden'], config['d_hidden'])\n",
        "#     self.W = nn.Parameter(torch.randn(config['d_hidden'], 1))\n",
        "#     self.register_parameter('W', self.W)\n",
        "#     self.Wp = nn.Linear(config['d_hidden'], config['d_hidden'])\n",
        "#     self.Wh = nn.Linear(config['d_hidden'], config['d_hidden'])\n",
        "\n",
        "    \n",
        "    \n",
        "    self.out = nn.Linear(2*config['d_hidden'], config['d_out'])\n",
        "  \n",
        "  def forward(self,batch):\n",
        "#     print(batch.premise)\n",
        "    pre_emb = self.embed(batch.premise)\n",
        "    hyp_emb = self.embed(batch.hypothesis)\n",
        "    if self.config['freeze_emb']:\n",
        "      pre_emb =pre_emb.detach()\n",
        "      hyp_emb =hyp_emb.detach()\n",
        "    prem = self.encoder(pre_emb).transpose(0,1)\n",
        "    hypo = self.encoder(hyp_emb)[-1].unsqueeze(2)\n",
        "    \n",
        "#     M = self.tanh(self.proj_p(prem)+self.proj_h(hypo[None,:,:]))\n",
        "#     alpha = nn.functional.softmax(torch.bmm(M, self.W.unsqueeze(0).expand(prem.size(0), *self.W.size())).squeeze(-1))\n",
        "#     r = torch.bmm(prem.permute(1,2,0),alpha.transpose(0,1).unsqueeze(2)).squeeze(2)\n",
        "#     h = self.tanh(self.Wp(r)+self.Wh(hypo))\n",
        "#     logits = self.out(h)\n",
        "    \n",
        "    #Attention\n",
        "    M = torch.bmm(prem,hypo)\n",
        "    alpha = nn.functional.softmax(M,1)\n",
        "    r = torch.bmm(prem.transpose(1,2),alpha)\n",
        "    logits = self.out(torch.cat([r.squeeze(2),hypo.squeeze(2)],1))\n",
        "    \n",
        "    return logits"
      ],
      "execution_count": 0,
      "outputs": []
    },
    {
      "metadata": {
        "id": "SuBSvbuugxBT",
        "colab_type": "code",
        "outputId": "cda343de-c8ce-4a15-df15-bbf639eef572",
        "colab": {
          "base_uri": "https://localhost:8080/",
          "height": 780
        }
      },
      "cell_type": "code",
      "source": [
        "config = {}\n",
        "config['n_embed'] = len(inputs.vocab)\n",
        "config['d_embed'] = 100\n",
        "config['d_hidden'] = 300\n",
        "config['d_out'] = len(answers.vocab)\n",
        "config['n_layers'] = 2\n",
        "config['freeze_emb'] = 0\n",
        "\n",
        "model = MultiNLIClassifier(config)\n",
        "print(model)\n",
        "model.embed.weight.data.copy_(inputs.vocab.vectors)\n",
        "model.to(device)\n",
        "train(model)"
      ],
      "execution_count": 0,
      "outputs": [
        {
          "output_type": "stream",
          "text": [
            "MultiNLIClassifier(\n",
            "  (embed): Embedding(93537, 100)\n",
            "  (encoder): Encoder(\n",
            "    (rnn): LSTM(100, 300, num_layers=2)\n",
            "  )\n",
            "  (out): Linear(in_features=600, out_features=4, bias=True)\n",
            ")\n",
            "  Time Epoch Iteration Progress    (%Epoch)   Loss   Dev/Loss     Accuracy  Dev/Accuracy\n",
            "    65     0      1000  1000/3068       33% 1.079349               34.4898             \n",
            "   130     0      2000  2000/3068       65% 0.920456               41.7711             \n",
            "   195     0      3000  3000/3068       98% 0.935929               46.1693             \n",
            "   200     0      3068  3068/3068      100% 0.910801 0.993797      46.4041      49.4142\n",
            "   261     1      4000   932/3068       30% 0.932720               58.5418             \n",
            "   326     1      5000  1932/3068       63% 0.837321               58.7583             \n",
            "   391     1      6000  2932/3068       96% 0.896943               58.8538             \n",
            "   401     1      6136  3068/3068      100% 0.794908 0.948965      58.8749      53.3164\n",
            "   458     2      7000   864/3068       28% 0.935352               62.5850             \n",
            "   522     2      8000  1864/3068       61% 0.875578               62.0427             \n",
            "   587     2      9000  2864/3068       93% 0.804720               61.8789             \n",
            "   601     2      9204  3068/3068      100% 0.778545 0.921700      61.8726      53.9277\n",
            "   654     3     10000   796/3068       26% 0.853694               65.8920             \n",
            "   720     3     11000  1796/3068       59% 0.832105               64.8716             \n",
            "   784     3     12000  2796/3068       91% 0.657441               64.3970             \n",
            "   802     3     12272  3068/3068      100% 0.843457 0.876078      64.2497      54.6714\n",
            "   852     4     13000   728/3068       24% 0.879094               68.9904             \n",
            "   916     4     14000  1728/3068       56% 0.671319               67.5727             \n",
            "   980     4     15000  2728/3068       89% 0.726078               66.8224             \n",
            "  1003     4     15340  3068/3068      100% 0.738491 0.884379      66.6055      53.0005\n",
            "  1045     5     16000   660/3068       22% 0.623220               72.0466             \n",
            "  1110     5     17000  1660/3068       54% 0.720138               70.5756             \n",
            "  1176     5     18000  2660/3068       87% 0.831291               69.4581             \n",
            "  1203     5     18408  3068/3068      100% 0.819206 0.881628      69.0424      53.4080\n",
            "  1243     6     19000   592/3068       19% 0.633284               74.8628             \n",
            "  1307     6     20000  1592/3068       52% 0.630170               73.1504             \n",
            "  1372     6     21000  2592/3068       84% 0.806971               71.8946             \n",
            "  1404     6     21476  3068/3068      100% 0.778180 0.923154      71.4501      52.1956\n",
            "  1439     7     22000   524/3068       17% 0.565383               77.8030             \n",
            "  1504     7     23000  1524/3068       50% 0.581771               76.0206             \n",
            "  1568     7     24000  2524/3068       82% 0.644433               74.6382             \n",
            "  1604     7     24544  3068/3068      100% 0.630878 0.897840      73.9680      53.6526\n",
            "  1635     8     25000   456/3068       15% 0.660703               80.6915             \n",
            "  1700     8     26000  1456/3068       47% 0.501743               78.6761             \n"
          ],
          "name": "stdout"
        }
      ]
    },
    {
      "metadata": {
        "id": "sZ-BNJxE7Ca8",
        "colab_type": "code",
        "colab": {}
      },
      "cell_type": "code",
      "source": [
        ""
      ],
      "execution_count": 0,
      "outputs": []
    }
  ]
}