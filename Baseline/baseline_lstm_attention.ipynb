{
  "nbformat": 4,
  "nbformat_minor": 0,
  "metadata": {
    "colab": {
      "name": "baseline_lstm_attention.ipynb",
      "version": "0.3.2",
      "provenance": [],
      "collapsed_sections": [],
      "include_colab_link": true
    },
    "kernelspec": {
      "name": "python3",
      "display_name": "Python 3"
    },
    "accelerator": "GPU"
  },
  "cells": [
    {
      "cell_type": "markdown",
      "metadata": {
        "id": "view-in-github",
        "colab_type": "text"
      },
      "source": [
        "<a href=\"https://colab.research.google.com/github/dhruvdcoder/HyperA/blob/master/Baseline/baseline_lstm_attention.ipynb\" target=\"_parent\"><img src=\"https://colab.research.google.com/assets/colab-badge.svg\" alt=\"Open In Colab\"/></a>"
      ]
    },
    {
      "cell_type": "code",
      "metadata": {
        "id": "Xu3H6evzrjai",
        "colab_type": "code",
        "colab": {}
      },
      "source": [
        "import torch\n",
        "from torchtext import data,datasets"
      ],
      "execution_count": 0,
      "outputs": []
    },
    {
      "cell_type": "code",
      "metadata": {
        "id": "hbK3nwV3AYh1",
        "colab_type": "code",
        "colab": {}
      },
      "source": [
        "device = torch.device(\"cuda:0\")"
      ],
      "execution_count": 0,
      "outputs": []
    },
    {
      "cell_type": "code",
      "metadata": {
        "id": "XGnoTyrBeizU",
        "colab_type": "code",
        "colab": {}
      },
      "source": [
        "inputs = data.Field(tokenize='spacy')\n",
        "answers = data.Field(sequential=False)"
      ],
      "execution_count": 0,
      "outputs": []
    },
    {
      "cell_type": "code",
      "metadata": {
        "id": "AWzaZm_GhNO4",
        "colab_type": "code",
        "outputId": "60880206-05eb-495b-e4d7-0d7d582ceb51",
        "colab": {
          "base_uri": "https://localhost:8080/",
          "height": 72
        }
      },
      "source": [
        "train, dev, test = datasets.MultiNLI.splits(inputs, answers)"
      ],
      "execution_count": 8,
      "outputs": [
        {
          "output_type": "stream",
          "text": [
            "downloading multinli_1.0.zip\n"
          ],
          "name": "stdout"
        },
        {
          "output_type": "stream",
          "text": [
            "multinli_1.0.zip: 100%|██████████| 227M/227M [02:21<00:00, 1.61MB/s]\n"
          ],
          "name": "stderr"
        },
        {
          "output_type": "stream",
          "text": [
            "extracting\n"
          ],
          "name": "stdout"
        }
      ]
    },
    {
      "cell_type": "code",
      "metadata": {
        "id": "xtA801Q2dxwz",
        "colab_type": "code",
        "outputId": "9004cd72-2b91-4bca-d76f-4631472d43aa",
        "colab": {
          "base_uri": "https://localhost:8080/",
          "height": 53
        }
      },
      "source": [
        "inputs.build_vocab(train, dev, test)\n",
        "inputs.vocab.load_vectors('glove.6B.100d')\n",
        "answers.build_vocab(train)\n",
        "\n",
        "train_iter, dev_iter, test_iter = data.BucketIterator.splits((train, dev, test), batch_size=128, device=device)"
      ],
      "execution_count": 9,
      "outputs": [
        {
          "output_type": "stream",
          "text": [
            ".vector_cache/glove.6B.zip: 862MB [02:51, 5.04MB/s]                           \n",
            "100%|█████████▉| 398307/400000 [00:16<00:00, 24818.52it/s]"
          ],
          "name": "stderr"
        }
      ]
    },
    {
      "cell_type": "code",
      "metadata": {
        "id": "gmAHTXnUqGcP",
        "colab_type": "code",
        "colab": {}
      },
      "source": [
        "import time\n",
        "import torch.optim as optim\n",
        "\n",
        "def train(model):\n",
        "  criterion = nn.CrossEntropyLoss()\n",
        "  optimizer = optim.Adam(model.parameters(), lr=0.001)#, weight_decay=1e-5)\n",
        "\n",
        "  iterations = 0\n",
        "  start = time.time()\n",
        "  best_dev_acc = -1\n",
        "  header = '  Time Epoch Iteration Progress    (%Epoch)   Loss   Dev/Loss     Accuracy  Dev/Accuracy'\n",
        "  dev_log_template = ' '.join('{:>6.0f},{:>5.0f},{:>9.0f},{:>5.0f}/{:<5.0f} {:>7.0f}%,{:>8.6f},{:8.6f},{:12.4f},{:12.4f}'.split(','))\n",
        "  log_template =     ' '.join('{:>6.0f},{:>5.0f},{:>9.0f},{:>5.0f}/{:<5.0f} {:>7.0f}%,{:>8.6f},{},{:12.4f},{}'.split(','))\n",
        "  print(header)\n",
        "\n",
        "  for epoch in range(3):\n",
        "    train_iter.init_epoch()\n",
        "    n_correct, n_total = 0, 0\n",
        "    for batch_idx, batch in enumerate(train_iter):\n",
        "\n",
        "        # switch model to training mode, clear gradient accumulators\n",
        "        model.train(); optimizer.zero_grad()\n",
        "\n",
        "        iterations += 1\n",
        "\n",
        "        # forward pass\n",
        "        answer,attentions = model(batch)\n",
        "\n",
        "        # calculate accuracy of predictions in the current batch\n",
        "        n_correct += (torch.max(answer, 1)[1].view(batch.label.size()) == batch.label).sum().item()\n",
        "        n_total += batch.batch_size\n",
        "        train_acc = 100. * n_correct/n_total\n",
        "\n",
        "        # calculate loss of the network output with respect to training labels\n",
        "        loss = criterion(answer, batch.label)\n",
        "\n",
        "        # backpropagate and update optimizer learning rate\n",
        "        loss.backward(); optimizer.step()\n",
        "\n",
        "        if iterations % 1000 == 0:\n",
        "\n",
        "          # print progress message\n",
        "          print(log_template.format(time.time()-start, epoch, iterations, 1+batch_idx, len(train_iter), \n",
        "                                    100. * (1+batch_idx) / len(train_iter), loss.item(), ' '*8, n_correct/n_total*100, ' '*12))\n",
        "\n",
        "    # switch model to evaluation mode\n",
        "    model.eval(); dev_iter.init_epoch()\n",
        "\n",
        "    # calculate accuracy on validation set\n",
        "    n_dev_correct, dev_loss = 0, 0\n",
        "    with torch.no_grad():\n",
        "      for dev_batch_idx, dev_batch in enumerate(dev_iter):\n",
        "        answer,attentions = model(dev_batch)\n",
        "        n_dev_correct += (torch.max(answer, 1)[1].view(dev_batch.label.size()) == dev_batch.label).sum().item()\n",
        "        dev_loss = criterion(answer, dev_batch.label)\n",
        "    dev_acc = 100. * n_dev_correct / len(dev)\n",
        "\n",
        "    print(dev_log_template.format(time.time()-start,\n",
        "        epoch, iterations, 1+batch_idx, len(train_iter),\n",
        "        100. * (1+batch_idx) / len(train_iter), loss.item(), dev_loss.item(), train_acc, dev_acc))"
      ],
      "execution_count": 0,
      "outputs": []
    },
    {
      "cell_type": "code",
      "metadata": {
        "id": "b5-tAtQY1sLu",
        "colab_type": "code",
        "colab": {}
      },
      "source": [
        "import torch.nn as nn\n",
        "\n",
        "class Encoder(nn.Module):\n",
        "  def __init__(self,config):\n",
        "    super(Encoder, self).__init__()\n",
        "    self.config = config\n",
        "    #self.rnn = nn.RNN(input_size=config['d_embed'], hidden_size=config['d_hidden'],num_layers=config['n_layers'])\n",
        "    self.rnn = nn.GRU(input_size=config['d_embed'], hidden_size=config['d_hidden'],num_layers=config['n_layers'])\n",
        "    #self.rnn = nn.LSTM(input_size=config['d_embed'], hidden_size=config['d_hidden'],num_layers=config['n_layers'])\n",
        "  \n",
        "  def forward(self,inputs):\n",
        "    #bsz = inputs.size()[1]\n",
        "    #h0 = c0 = inputs.new_zeros(config['n_layers'], bsz, config['d_hidden'])\n",
        "    outputs, hidden = self.rnn(inputs)\n",
        "    #outputs, (hidden,cell) = self.rnn(inputs)\n",
        "    return outputs if config['attn'] else outputs[-1]\n",
        "  \n",
        "class MultiNLIClassifier(nn.Module):\n",
        "  def __init__(self,config):\n",
        "    super(MultiNLIClassifier, self).__init__()\n",
        "    self.config = config\n",
        "    self.embed = nn.Embedding(config['n_embed'], config['d_embed'])\n",
        "    self.encoder = Encoder(config)\n",
        "    self.encoder_p = Encoder(config)\n",
        "    self.encoder_h = Encoder(config)\n",
        "\n",
        "    self.out = nn.Linear(2*config['d_hidden'], config['d_out'])\n",
        "  \n",
        "  def forward(self,batch):\n",
        "#     print(batch.premise)\n",
        "    pre_emb = self.embed(batch.premise)\n",
        "    hyp_emb = self.embed(batch.hypothesis)\n",
        "    if self.config['freeze_emb']:\n",
        "      pre_emb =pre_emb.detach()\n",
        "      hyp_emb =hyp_emb.detach()\n",
        "    if self.config['attn']:\n",
        "      #Attention\n",
        "      prem = self.encoder_p(pre_emb).transpose(0,1)\n",
        "      hypo = self.encoder_h(hyp_emb)[-1].unsqueeze(2)\n",
        "#     M = self.tanh(self.proj_p(prem)+self.proj_h(hypo[None,:,:]))\n",
        "#     alpha = nn.functional.softmax(torch.bmm(M, self.W.unsqueeze(0).expand(prem.size(0), *self.W.size())).squeeze(-1))\n",
        "#     r = torch.bmm(prem.permute(1,2,0),alpha.transpose(0,1).unsqueeze(2)).squeeze(2)\n",
        "#     h = self.tanh(self.Wp(r)+self.Wh(hypo))\n",
        "#     logits = self.out(h)\n",
        "      M = torch.bmm(prem,hypo)\n",
        "      alpha = nn.functional.softmax(M,1)\n",
        "      r = torch.bmm(prem.transpose(1,2),alpha)\n",
        "      logits = self.out(torch.cat([r.squeeze(2),hypo.squeeze(2)],1))\n",
        "    else:\n",
        "      prem = self.encoder(pre_emb)\n",
        "      hypo = self.encoder(hyp_emb)\n",
        "      logits = self.out(torch.cat([prem,hypo],1))\n",
        "    \n",
        "    return logits,alpha"
      ],
      "execution_count": 0,
      "outputs": []
    },
    {
      "cell_type": "code",
      "metadata": {
        "id": "SuBSvbuugxBT",
        "colab_type": "code",
        "outputId": "cb0328b6-953e-46d4-d873-8aca3de25530",
        "colab": {
          "base_uri": "https://localhost:8080/",
          "height": 489
        }
      },
      "source": [
        "config = {}\n",
        "config['n_embed'] = len(inputs.vocab)\n",
        "config['d_embed'] = 100\n",
        "config['d_hidden'] = 300\n",
        "config['d_out'] = len(answers.vocab)\n",
        "config['n_layers'] = 1\n",
        "config['freeze_emb'] = 0\n",
        "config['attn'] = 1\n",
        "\n",
        "model = MultiNLIClassifier(config)\n",
        "print(model)\n",
        "model.embed.weight.data.copy_(inputs.vocab.vectors)\n",
        "model.to(device)\n",
        "train(model)"
      ],
      "execution_count": 27,
      "outputs": [
        {
          "output_type": "stream",
          "text": [
            "MultiNLIClassifier(\n",
            "  (embed): Embedding(93537, 100)\n",
            "  (encoder): Encoder(\n",
            "    (rnn): GRU(100, 300)\n",
            "  )\n",
            "  (encoder_p): Encoder(\n",
            "    (rnn): GRU(100, 300)\n",
            "  )\n",
            "  (encoder_h): Encoder(\n",
            "    (rnn): GRU(100, 300)\n",
            "  )\n",
            "  (out): Linear(in_features=600, out_features=4, bias=True)\n",
            ")\n",
            "  Time Epoch Iteration Progress    (%Epoch)   Loss   Dev/Loss     Accuracy  Dev/Accuracy\n",
            "    32     0      1000  1000/3068       33% 0.983348               48.2000             \n",
            "    64     0      2000  2000/3068       65% 0.894987               52.3215             \n",
            "    94     0      3000  3000/3068       98% 0.870392               54.6083             \n",
            "    97     0      3068  3068/3068      100% 0.948984 0.925612      54.7461      58.9913\n",
            "   127     1      4000   932/3068       30% 0.779360               63.9384             \n",
            "   158     1      5000  1932/3068       63% 0.863252               64.0710             \n",
            "   189     1      6000  2932/3068       96% 0.827615               64.1800             \n",
            "   194     1      6136  3068/3068      100% 0.792710 0.888360      64.2118      61.7117\n",
            "   222     2      7000   864/3068       28% 0.698177               70.9871             \n",
            "   253     2      8000  1864/3068       61% 0.615443               70.5204             \n",
            "   284     2      9000  2864/3068       93% 0.678775               70.2146             \n",
            "   291     2      9204  3068/3068      100% 0.572487 0.825447      70.1853      61.5588\n"
          ],
          "name": "stdout"
        }
      ]
    },
    {
      "cell_type": "code",
      "metadata": {
        "id": "o_NKX56CpnNO",
        "colab_type": "code",
        "outputId": "acbbc417-fb70-4ba8-f5c3-c6624bc6c455",
        "colab": {
          "base_uri": "https://localhost:8080/",
          "height": 287
        }
      },
      "source": [
        "import matplotlib.pyplot as plt\n",
        "import matplotlib.ticker as ticker\n",
        "\n",
        "class Batch:\n",
        "  def __init__(self,prem,hypo):\n",
        "    self.premise = prem\n",
        "    self.hypothesis = hypo\n",
        "\n",
        "def showAttention(input_sentence, attentions):\n",
        "    # Set up figure with colorbar\n",
        "    fig = plt.figure()\n",
        "    ax = fig.add_subplot(111)\n",
        "    cax = ax.matshow(attentions.numpy(), cmap='Blues')\n",
        "    fig.colorbar(cax)\n",
        "\n",
        "    # Set up axes\n",
        "#     ax.set_xticklabels([''] + input_sentence.split(' ') +\n",
        "#                        ['<EOS>'], rotation=90)\n",
        "    ax.set_yticklabels([''] + input_sentence.split(' ') +\n",
        "                       ['<EOS>'])\n",
        "\n",
        "    # Show label at every tick\n",
        "    ax.xaxis.set_major_locator(ticker.MultipleLocator(1))\n",
        "    ax.yaxis.set_major_locator(ticker.MultipleLocator(1))\n",
        "\n",
        "    plt.show()\n",
        "    \n",
        "    \n",
        "def evaluateAndShowAttention(premise,hypothesis):\n",
        "  prem = []\n",
        "  for word in premise.split(' '):\n",
        "    prem.append(inputs.vocab.stoi[word])\n",
        "  prem = torch.LongTensor(prem).unsqueeze(1)\n",
        "  \n",
        "  hypo = []\n",
        "  for word in hypothesis.split(' '):\n",
        "    hypo.append(inputs.vocab.stoi[word])\n",
        "  hypo = torch.LongTensor(hypo).unsqueeze(1)\n",
        "#   print(prem.shape,hypo.shape)\n",
        "  \n",
        "#   print(hypothesis)\n",
        "  batch = Batch(prem.cuda(),hypo.cuda())\n",
        "#   print(batch.hypothesis.shape)\n",
        "  \n",
        "  answer,attentions = model(batch)\n",
        "#   print(attentions.shape)\n",
        "#   print(premise,attentions[0].detach().cpu().shape)\n",
        "  print(hypothesis)\n",
        "  showAttention(premise, attentions[0].detach().cpu())\n",
        "\n",
        "\n",
        "\n",
        "model.eval()\n",
        "# premise = 'A boy rides on a camel while talking on his cellphone.' #in a crowded area\n",
        "# hypothesis = 'A boy is riding an animal.'\n",
        "\n",
        "premise = 'A girl is wearing a blue jacket .'\n",
        "hypothesis = 'The jacket is blue .'\n",
        "\n",
        "# premise = 'A girl is wearing a blue jacket.'\n",
        "# hypothesis = 'The jacket is pink.'\n",
        "\n",
        "# premise = 'Our close neighbour .'\n",
        "# hypothesis = 'Our far distant neighbor .'\n",
        "\n",
        "\n",
        "evaluateAndShowAttention(premise,hypothesis)"
      ],
      "execution_count": 28,
      "outputs": [
        {
          "output_type": "stream",
          "text": [
            "The jacket is blue .\n"
          ],
          "name": "stdout"
        },
        {
          "output_type": "display_data",
          "data": {
            "image/png": "[encoded data removed]",
            "text/plain": [
              "<Figure size 432x288 with 2 Axes>"
            ]
          },
          "metadata": {
            "tags": []
          }
        }
      ]
    },
    {
      "cell_type": "code",
      "metadata": {
        "id": "Vrbtt7vLBqj_",
        "colab_type": "code",
        "colab": {}
      },
      "source": [
        ""
      ],
      "execution_count": 0,
      "outputs": []
    }
  ]
}