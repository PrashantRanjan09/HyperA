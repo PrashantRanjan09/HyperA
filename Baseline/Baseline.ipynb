{
 "cells": [
  {
   "cell_type": "code",
   "execution_count": 25,
   "metadata": {},
   "outputs": [],
   "source": [
    "%matplotlib inline\n",
    "import matplotlib.pyplot as plt\n",
    "import numpy as np\n",
    "import pandas as pd\n",
    "import re"
   ]
  },
  {
   "cell_type": "code",
   "execution_count": 6,
   "metadata": {},
   "outputs": [],
   "source": [
    "\n",
    "data = pd.read_json('multinli_1.0/multinli_1.0_train.jsonl',lines=True)"
   ]
  },
  {
   "cell_type": "code",
   "execution_count": 4,
   "metadata": {},
   "outputs": [
    {
     "data": {
      "text/html": [
       "<div>\n",
       "<style scoped>\n",
       "    .dataframe tbody tr th:only-of-type {\n",
       "        vertical-align: middle;\n",
       "    }\n",
       "\n",
       "    .dataframe tbody tr th {\n",
       "        vertical-align: top;\n",
       "    }\n",
       "\n",
       "    .dataframe thead th {\n",
       "        text-align: right;\n",
       "    }\n",
       "</style>\n",
       "<table border=\"1\" class=\"dataframe\">\n",
       "  <thead>\n",
       "    <tr style=\"text-align: right;\">\n",
       "      <th></th>\n",
       "      <th>annotator_labels</th>\n",
       "      <th>genre</th>\n",
       "      <th>gold_label</th>\n",
       "      <th>pairID</th>\n",
       "      <th>promptID</th>\n",
       "      <th>sentence1</th>\n",
       "      <th>sentence1_binary_parse</th>\n",
       "      <th>sentence1_parse</th>\n",
       "      <th>sentence2</th>\n",
       "      <th>sentence2_binary_parse</th>\n",
       "      <th>sentence2_parse</th>\n",
       "    </tr>\n",
       "  </thead>\n",
       "  <tbody>\n",
       "    <tr>\n",
       "      <th>0</th>\n",
       "      <td>[neutral]</td>\n",
       "      <td>government</td>\n",
       "      <td>neutral</td>\n",
       "      <td>31193n</td>\n",
       "      <td>31193</td>\n",
       "      <td>Conceptually cream skimming has two basic dime...</td>\n",
       "      <td>( ( Conceptually ( cream skimming ) ) ( ( has ...</td>\n",
       "      <td>(ROOT (S (NP (JJ Conceptually) (NN cream) (NN ...</td>\n",
       "      <td>Product and geography are what make cream skim...</td>\n",
       "      <td>( ( ( Product and ) geography ) ( ( are ( what...</td>\n",
       "      <td>(ROOT (S (NP (NN Product) (CC and) (NN geograp...</td>\n",
       "    </tr>\n",
       "    <tr>\n",
       "      <th>1</th>\n",
       "      <td>[entailment]</td>\n",
       "      <td>telephone</td>\n",
       "      <td>entailment</td>\n",
       "      <td>101457e</td>\n",
       "      <td>101457</td>\n",
       "      <td>you know during the season and i guess at at y...</td>\n",
       "      <td>( you ( ( know ( during ( ( ( the season ) and...</td>\n",
       "      <td>(ROOT (S (NP (PRP you)) (VP (VBP know) (PP (IN...</td>\n",
       "      <td>You lose the things to the following level if ...</td>\n",
       "      <td>( You ( ( ( ( lose ( the things ) ) ( to ( the...</td>\n",
       "      <td>(ROOT (S (NP (PRP You)) (VP (VBP lose) (NP (DT...</td>\n",
       "    </tr>\n",
       "    <tr>\n",
       "      <th>2</th>\n",
       "      <td>[entailment]</td>\n",
       "      <td>fiction</td>\n",
       "      <td>entailment</td>\n",
       "      <td>134793e</td>\n",
       "      <td>134793</td>\n",
       "      <td>One of our number will carry out your instruct...</td>\n",
       "      <td>( ( One ( of ( our number ) ) ) ( ( will ( ( (...</td>\n",
       "      <td>(ROOT (S (NP (NP (CD One)) (PP (IN of) (NP (PR...</td>\n",
       "      <td>A member of my team will execute your orders w...</td>\n",
       "      <td>( ( ( A member ) ( of ( my team ) ) ) ( ( will...</td>\n",
       "      <td>(ROOT (S (NP (NP (DT A) (NN member)) (PP (IN o...</td>\n",
       "    </tr>\n",
       "    <tr>\n",
       "      <th>3</th>\n",
       "      <td>[entailment]</td>\n",
       "      <td>fiction</td>\n",
       "      <td>entailment</td>\n",
       "      <td>37397e</td>\n",
       "      <td>37397</td>\n",
       "      <td>How do you know? All this is their information...</td>\n",
       "      <td>( ( How ( ( ( do you ) know ) ? ) ) ( ( All th...</td>\n",
       "      <td>(ROOT (S (SBARQ (WHADVP (WRB How)) (SQ (VBP do...</td>\n",
       "      <td>This information belongs to them.</td>\n",
       "      <td>( ( This information ) ( ( belongs ( to them )...</td>\n",
       "      <td>(ROOT (S (NP (DT This) (NN information)) (VP (...</td>\n",
       "    </tr>\n",
       "    <tr>\n",
       "      <th>4</th>\n",
       "      <td>[neutral]</td>\n",
       "      <td>telephone</td>\n",
       "      <td>neutral</td>\n",
       "      <td>50563n</td>\n",
       "      <td>50563</td>\n",
       "      <td>yeah i tell you what though if you go price so...</td>\n",
       "      <td>( yeah ( i ( ( tell you ) ( what ( ( though ( ...</td>\n",
       "      <td>(ROOT (S (VP (VB yeah) (S (NP (FW i)) (VP (VB ...</td>\n",
       "      <td>The tennis shoes have a range of prices.</td>\n",
       "      <td>( ( The ( tennis shoes ) ) ( ( have ( ( a rang...</td>\n",
       "      <td>(ROOT (S (NP (DT The) (NN tennis) (NNS shoes))...</td>\n",
       "    </tr>\n",
       "  </tbody>\n",
       "</table>\n",
       "</div>"
      ],
      "text/plain": [
       "  annotator_labels       genre  gold_label   pairID  promptID  \\\n",
       "0        [neutral]  government     neutral   31193n     31193   \n",
       "1     [entailment]   telephone  entailment  101457e    101457   \n",
       "2     [entailment]     fiction  entailment  134793e    134793   \n",
       "3     [entailment]     fiction  entailment   37397e     37397   \n",
       "4        [neutral]   telephone     neutral   50563n     50563   \n",
       "\n",
       "                                           sentence1  \\\n",
       "0  Conceptually cream skimming has two basic dime...   \n",
       "1  you know during the season and i guess at at y...   \n",
       "2  One of our number will carry out your instruct...   \n",
       "3  How do you know? All this is their information...   \n",
       "4  yeah i tell you what though if you go price so...   \n",
       "\n",
       "                              sentence1_binary_parse  \\\n",
       "0  ( ( Conceptually ( cream skimming ) ) ( ( has ...   \n",
       "1  ( you ( ( know ( during ( ( ( the season ) and...   \n",
       "2  ( ( One ( of ( our number ) ) ) ( ( will ( ( (...   \n",
       "3  ( ( How ( ( ( do you ) know ) ? ) ) ( ( All th...   \n",
       "4  ( yeah ( i ( ( tell you ) ( what ( ( though ( ...   \n",
       "\n",
       "                                     sentence1_parse  \\\n",
       "0  (ROOT (S (NP (JJ Conceptually) (NN cream) (NN ...   \n",
       "1  (ROOT (S (NP (PRP you)) (VP (VBP know) (PP (IN...   \n",
       "2  (ROOT (S (NP (NP (CD One)) (PP (IN of) (NP (PR...   \n",
       "3  (ROOT (S (SBARQ (WHADVP (WRB How)) (SQ (VBP do...   \n",
       "4  (ROOT (S (VP (VB yeah) (S (NP (FW i)) (VP (VB ...   \n",
       "\n",
       "                                           sentence2  \\\n",
       "0  Product and geography are what make cream skim...   \n",
       "1  You lose the things to the following level if ...   \n",
       "2  A member of my team will execute your orders w...   \n",
       "3                  This information belongs to them.   \n",
       "4           The tennis shoes have a range of prices.   \n",
       "\n",
       "                              sentence2_binary_parse  \\\n",
       "0  ( ( ( Product and ) geography ) ( ( are ( what...   \n",
       "1  ( You ( ( ( ( lose ( the things ) ) ( to ( the...   \n",
       "2  ( ( ( A member ) ( of ( my team ) ) ) ( ( will...   \n",
       "3  ( ( This information ) ( ( belongs ( to them )...   \n",
       "4  ( ( The ( tennis shoes ) ) ( ( have ( ( a rang...   \n",
       "\n",
       "                                     sentence2_parse  \n",
       "0  (ROOT (S (NP (NN Product) (CC and) (NN geograp...  \n",
       "1  (ROOT (S (NP (PRP You)) (VP (VBP lose) (NP (DT...  \n",
       "2  (ROOT (S (NP (NP (DT A) (NN member)) (PP (IN o...  \n",
       "3  (ROOT (S (NP (DT This) (NN information)) (VP (...  \n",
       "4  (ROOT (S (NP (DT The) (NN tennis) (NNS shoes))...  "
      ]
     },
     "execution_count": 4,
     "metadata": {},
     "output_type": "execute_result"
    }
   ],
   "source": [
    "data.head()"
   ]
  },
  {
   "cell_type": "code",
   "execution_count": 15,
   "metadata": {},
   "outputs": [
    {
     "data": {
      "text/plain": [
       "contradiction    130903\n",
       "neutral          130900\n",
       "entailment       130899\n",
       "Name: gold_label, dtype: int64"
      ]
     },
     "execution_count": 15,
     "metadata": {},
     "output_type": "execute_result"
    }
   ],
   "source": [
    "data['gold_label'].value_counts()"
   ]
  },
  {
   "cell_type": "code",
   "execution_count": 16,
   "metadata": {},
   "outputs": [
    {
     "data": {
      "text/plain": [
       "0         Conceptually cream skimming has two basic dime...\n",
       "1         you know during the season and i guess at at y...\n",
       "2         One of our number will carry out your instruct...\n",
       "3         How do you know? All this is their information...\n",
       "4         yeah i tell you what though if you go price so...\n",
       "5         my walkman broke so i'm upset now i just have ...\n",
       "6         But a few Christian mosaics survive above the ...\n",
       "7          (Read  for Slate 's take on Jackson's findings.)\n",
       "8                                        Gays and lesbians.\n",
       "9         At the end of Rue des Francs-Bourgeois is what...\n",
       "10        I burst through a set of cabin doors, and fell...\n",
       "11                             Fun for adults and children.\n",
       "12        It's not that the questions they asked weren't...\n",
       "13        Thebes held onto power until the 12th Dynasty,...\n",
       "14        I don't mean to be glib about your concerns, b...\n",
       "15                                Issues in Data Synthesis.\n",
       "16                     well you see that on television also\n",
       "17        Vrenna and I both fought him and he nearly too...\n",
       "18        This analysis pooled estimates from these two ...\n",
       "19                          He turned and smiled at Vrenna.\n",
       "20        We sought to identify practices that were comm...\n",
       "21                                  The other men shuffled.\n",
       "22        States must show reasonable progress in their ...\n",
       "23                          well it's been very interesting\n",
       "24                 He started slowly back to the bunkhouse.\n",
       "25        and it's it's quite a bit i think six somethin...\n",
       "26        They're made from a secret recipe handed down ...\n",
       "27                         yeah well you're a student right\n",
       "28        it really is i heard something that their supp...\n",
       "29        Postal Service were to reduce delivery frequency.\n",
       "                                ...                        \n",
       "392672    The non-stop lift takes 55 seconds from ground...\n",
       "392673    Got you a couple of blooded hosses an' a good ...\n",
       "392674    Breasts have lost much of their mythological a...\n",
       "392675            Which of you is the strongest? asked Jon.\n",
       "392676    and losing it in the competitive market and a ...\n",
       "392677    The initial approach route, along the A593 fro...\n",
       "392678    of it being a little bit too low and i my bath...\n",
       "392679    she likes to sew and do crafts and things like...\n",
       "392680    The river Canche flows right through the cente...\n",
       "392681    Uphill to the south of the park lies the Agora...\n",
       "392682    In additional to internal communications, mana...\n",
       "392683    Suffice to say it has no true heat, but does s...\n",
       "392684    And the teens in that one were so much meaner ...\n",
       "392685    no no i'm in Detroit or not Detroit i'm in uh ...\n",
       "392686    Dolly Parton's breast implants against Mark Mc...\n",
       "392687    The New Radicals sound like Todd Rundgren has ...\n",
       "392688    Its majesty is most notable in the balconies o...\n",
       "392689    but they they've got so much young raw talent ...\n",
       "392690    Concerns about the reliability of value estima...\n",
       "392691    If you would like to scale the highest heights...\n",
       "392692    Many responses pivoted on the amusing contrast...\n",
       "392693    Four monasteries developed as a source of prot...\n",
       "392694             There was nothing like that emotion now.\n",
       "392695                                     Drawing a blank?\n",
       "392696    Legacy, predicting that he will keep custody o...\n",
       "392697      Clearly, California can - and must - do better.\n",
       "392698    It was once regarded as the most beautiful str...\n",
       "392699    Houseboats are a beautifully preserved traditi...\n",
       "392700    Obituaries fondly recalled his on-air debates ...\n",
       "392701    in that other you know uh that i should do it ...\n",
       "Name: sentence1, Length: 392702, dtype: object"
      ]
     },
     "execution_count": 16,
     "metadata": {},
     "output_type": "execute_result"
    }
   ],
   "source": [
    "data[\"sentence1\"]"
   ]
  },
  {
   "cell_type": "code",
   "execution_count": 23,
   "metadata": {},
   "outputs": [
    {
     "data": {
      "text/plain": [
       "0         Product and geography are what make cream skim...\n",
       "1         You lose the things to the following level if ...\n",
       "2         A member of my team will execute your orders w...\n",
       "3                         This information belongs to them.\n",
       "4                  The tennis shoes have a range of prices.\n",
       "5         I'm upset that my walkman broke and now I have...\n",
       "6         Most of the Christian mosaics were destroyed b...\n",
       "7               Slate had an opinion on Jackson's findings.\n",
       "8                                            Heterosexuals.\n",
       "9         Place des Vosges is constructed entirely of gr...\n",
       "10                 I burst through the doors and fell down.\n",
       "11                                   Fun for only children.\n",
       "12        All of the questions were interesting accordin...\n",
       "13        The capital near Memphis lasted only half a ce...\n",
       "14        I am concerned more about your issues than the...\n",
       "15                              Problems in data synthesis.\n",
       "16                 You can see that on television, as well.\n",
       "17          Neither Vrenna nor myself have ever fought him.\n",
       "18        The analysis proves that there is no link betw...\n",
       "19        He smiled at Vrenna who was walking slowly beh...\n",
       "20        We want to identify practices commonly used by...\n",
       "21                      The other men were shuffled around.\n",
       "22        Itis not necessary for there to be any improve...\n",
       "23                             It has been very intriguing.\n",
       "24                     He returned slowly to the bunkhouse.\n",
       "25          I do not know exactly where the local taxes go.\n",
       "26        The recipe passed down from Mallorcan ancestor...\n",
       "27                   Well you're a mechanics student right?\n",
       "28        It's unfortunate that nobody is organizing a c...\n",
       "29        The postal service could deliver less frequently.\n",
       "                                ...                        \n",
       "392672    The lift was designed to offer the spectacular...\n",
       "392673                            He gave him a money belt.\n",
       "392674           People are not excited by breasts anymore.\n",
       "392675    The man asked for directions to the nearest ex...\n",
       "392676    I really wonder how America has lost its compe...\n",
       "392677    The route coming from Ambleside along the A593...\n",
       "392678    I am wearing a very modest swimsuit that i bou...\n",
       "392679    She used to work a fulltime job, before she de...\n",
       "392680                  The town has no water source in it.\n",
       "392681    The hill to get to Agora is not steep and wort...\n",
       "392682    Communication should be conducted over email a...\n",
       "392683                            It has lots of true heat.\n",
       "392684                   Bobbie Rydell is a known teenager.\n",
       "392685     I'm no longer in Detroit, I moved to California.\n",
       "392686    Dolly Parton's breast implants contrasting Mar...\n",
       "392687           The New Radicals sound like Todd Rundgren.\n",
       "392688    The latticework in the Royal Harem is clumsy a...\n",
       "392689    They will be going to a camp to learn how to p...\n",
       "392690            Research on bias can be biased as well.  \n",
       "392691    Some lessons and advice are a good idea if you...\n",
       "392692    There was no visible difference between the up...\n",
       "392693    Only three monasteries still exist here, and a...\n",
       "392694              There are few emotions that come close.\n",
       "392695                          You can be drawing a blank.\n",
       "392696    His children love their father and it's a grea...\n",
       "392697                     California cannot do any better.\n",
       "392698    So many of the original buildings had been rep...\n",
       "392699    The tradition of houseboats originated while t...\n",
       "392700    The obituaries were beautiful and written in k...\n",
       "392701    My husband has been so overworked lately that ...\n",
       "Name: sentence2, Length: 392702, dtype: object"
      ]
     },
     "execution_count": 23,
     "metadata": {},
     "output_type": "execute_result"
    }
   ],
   "source": [
    "data[\"sentence2\"]"
   ]
  },
  {
   "cell_type": "code",
   "execution_count": 18,
   "metadata": {},
   "outputs": [],
   "source": [
    "glove_df = pd.read_csv('glove.6B/glove.6B.300d.txt', sep=\" \", quoting=3, header=None, index_col=0)\n",
    "glove = {key: val.values for key, val in glove_df.T.items()}"
   ]
  },
  {
   "cell_type": "code",
   "execution_count": 22,
   "metadata": {},
   "outputs": [],
   "source": [
    "replace_puncts = {'`': \"'\", '′': \"'\", '“':'\"', '”': '\"', '‘': \"'\"}\n",
    "\n",
    "strip_chars = [',', '.', '\"', ':', ')', '(', '-', '|', ';', \"'\", '[', ']', '>', '=', '+', '\\\\', '•',  '~', '@', \n",
    " '·', '_', '{', '}', '©', '^', '®', '`',  '<', '→', '°', '€', '™', '›',  '♥', '←', '×', '§', '″', '′', 'Â', '█', '½', 'à', '…', \n",
    " '“', '★', '”', '–', '●', 'â', '►', '−', '¢', '²', '¬', '░', '¶', '↑', '±', '¿', '▾', '═', '¦', '║', '―', '¥', '▓', '—', '‹', '─', \n",
    " '▒', '：', '¼', '⊕', '▼', '▪', '†', '■', '’', '▀', '¨', '▄', '♫', '☆', 'é', '¯', '♦', '¤', '▲', 'è', '¸', '¾', 'Ã', '⋅', '‘', '∞', \n",
    " '∙', '）', '↓', '、', '│', '（', '»', '，', '♪', '╩', '╚', '³', '・', '╦', '╣', '╔', '╗', '▬', '❤', 'ï', 'Ø', '¹', '≤', '‡', '√', ]\n",
    "\n",
    "puncts = ['!', '?', '$', '&', '/', '%', '#', '*','£']\n",
    "\n",
    "def clean_str(x):\n",
    "    x = str(x)\n",
    "    \n",
    "    x = x.lower()\n",
    "    \n",
    "    x = re.sub(r\"(https?:\\/\\/(?:www\\.|(?!www))[a-zA-Z0-9][a-zA-Z0-9-]+[a-zA-Z0-9]\\.[^\\s]{2,}|www\\.[a-zA-Z0-9][a-zA-Z0-9-]+[a-zA-Z0-9]\\.[^\\s]{2,}|https?:\\/\\/(?:www\\.|(?!www))[a-zA-Z0-9]\\.[^\\s]{2,}|www\\.[a-zA-Z0-9]\\.[^\\s]{2,})\", \"url\", x)\n",
    "    \n",
    "    for k, v in replace_puncts.items():\n",
    "        x = x.replace(k, f' {v} ')\n",
    "        \n",
    "    for punct in strip_chars:\n",
    "        x = x.replace(punct, ' ') \n",
    "    \n",
    "    for punct in puncts:\n",
    "        x = x.replace(punct, f' {punct} ')\n",
    "        \n",
    "    x = x.replace(\" '\", \" \")\n",
    "    x = x.replace(\"' \", \" \")\n",
    "        \n",
    "    return x\n"
   ]
  },
  {
   "cell_type": "code",
   "execution_count": 26,
   "metadata": {},
   "outputs": [],
   "source": [
    "data['clean_sentence1'] = data['sentence1'].apply(clean_str)"
   ]
  },
  {
   "cell_type": "code",
   "execution_count": 27,
   "metadata": {},
   "outputs": [],
   "source": [
    "data['clean_sentence2'] = data['sentence2'].apply(clean_str)"
   ]
  },
  {
   "cell_type": "code",
   "execution_count": 31,
   "metadata": {},
   "outputs": [
    {
     "name": "stdout",
     "output_type": "stream",
     "text": [
      "Collecting keras\n",
      "  Using cached https://files.pythonhosted.org/packages/5e/10/aa32dad071ce52b5502266b5c659451cfd6ffcbf14e6c8c4f16c0ff5aaab/Keras-2.2.4-py2.py3-none-any.whl\n",
      "Requirement already satisfied: scipy>=0.14 in /anaconda3/lib/python3.6/site-packages (from keras) (1.2.0)\n",
      "Requirement already satisfied: six>=1.9.0 in /anaconda3/lib/python3.6/site-packages (from keras) (1.12.0)\n",
      "Requirement already satisfied: keras-applications>=1.0.6 in /anaconda3/lib/python3.6/site-packages (from keras) (1.0.6)\n",
      "Requirement already satisfied: pyyaml in /anaconda3/lib/python3.6/site-packages (from keras) (3.13)\n",
      "Requirement already satisfied: h5py in /anaconda3/lib/python3.6/site-packages (from keras) (2.8.0)\n",
      "Requirement already satisfied: numpy>=1.9.1 in /anaconda3/lib/python3.6/site-packages (from keras) (1.15.4)\n",
      "Requirement already satisfied: keras-preprocessing>=1.0.5 in /anaconda3/lib/python3.6/site-packages (from keras) (1.0.5)\n",
      "Installing collected packages: keras\n",
      "Successfully installed keras-2.2.4\n"
     ]
    }
   ],
   "source": [
    "! pip install keras "
   ]
  },
  {
   "cell_type": "code",
   "execution_count": 36,
   "metadata": {},
   "outputs": [],
   "source": [
    "import keras\n",
    "from keras.preprocessing.text import Tokenizer\n",
    "from keras.preprocessing.sequence import pad_sequences\n",
    "from sklearn.model_selection import train_test_split"
   ]
  },
  {
   "cell_type": "code",
   "execution_count": 50,
   "metadata": {},
   "outputs": [],
   "source": [
    "X=[]\n",
    "for i in range(len(data)):\n",
    "    sent1_words = data[\"clean_sentence1\"][i].split()\n",
    "    sent2_words = data[\"clean_sentence2\"][i].split()\n",
    "    X.append(sent1_words+sent2_words)\n",
    "    "
   ]
  },
  {
   "cell_type": "code",
   "execution_count": 57,
   "metadata": {},
   "outputs": [],
   "source": [
    "data['sent1_sent2'] = [' '.join(map(str, l)) for l in X]"
   ]
  },
  {
   "cell_type": "code",
   "execution_count": 59,
   "metadata": {},
   "outputs": [
    {
     "data": {
      "text/plain": [
       "('conceptually cream skimming has two basic dimensions product and geography product and geography are what make cream skimming work',\n",
       " array([0, 0, 1], dtype=uint8))"
      ]
     },
     "execution_count": 59,
     "metadata": {},
     "output_type": "execute_result"
    }
   ],
   "source": [
    "data['sent1_sent2'][0],y[0]"
   ]
  },
  {
   "cell_type": "code",
   "execution_count": 60,
   "metadata": {},
   "outputs": [
    {
     "name": "stdout",
     "output_type": "stream",
     "text": [
      "test set size 39271\n"
     ]
    }
   ],
   "source": [
    "max_features = 20000 \n",
    "sequence_length = 100\n",
    "\n",
    "tokenizer = Tokenizer(num_words=max_features, split=' ', oov_token='<unw>', filters=' ')\n",
    "tokenizer.fit_on_texts(data['sent1_sent2'].values)\n",
    "X = tokenizer.texts_to_sequences(data['sent1_sent2'].values)\n",
    "\n",
    "# we then pad the sequences so they're all the same length (sequence_length)\n",
    "X = pad_sequences(X, sequence_length)\n",
    "\n",
    "\n",
    "y = pd.get_dummies(data['gold_label']).values\n",
    "\n",
    "# lets keep a couple of thousand samples back as a test set\n",
    "X_train, X_test, y_train, y_test = train_test_split(X, y, test_size=0.1)\n",
    "\n",
    "print(\"test set size \" + str(len(X_test)))"
   ]
  },
  {
   "cell_type": "code",
   "execution_count": 62,
   "metadata": {},
   "outputs": [
    {
     "name": "stdout",
     "output_type": "stream",
     "text": [
      "Found 400001 word vectors.\n"
     ]
    }
   ],
   "source": [
    "import os\n",
    "embeddings_index = {}\n",
    "f = open(os.path.join('glove.6B', 'glove.6B.300d.txt'))\n",
    "for line in f:\n",
    "    values = line.split()\n",
    "    word = values[0]\n",
    "    coefs = np.asarray(values[1:], dtype='float32')\n",
    "    embeddings_index[word] = coefs\n",
    "f.close()\n",
    "\n",
    "print('Found %s word vectors.' % len(embeddings_index))"
   ]
  },
  {
   "cell_type": "code",
   "execution_count": 64,
   "metadata": {},
   "outputs": [
    {
     "name": "stdout",
     "output_type": "stream",
     "text": [
      "Found 70666 unique tokens.\n"
     ]
    }
   ],
   "source": [
    "word_index = tokenizer.word_index\n",
    "print('Found %s unique tokens.' % len(word_index))"
   ]
  },
  {
   "cell_type": "code",
   "execution_count": 65,
   "metadata": {},
   "outputs": [
    {
     "name": "stdout",
     "output_type": "stream",
     "text": [
      "20001\n"
     ]
    }
   ],
   "source": [
    "num_words = min(max_features, len(word_index)) + 1\n",
    "print(num_words)\n",
    "\n",
    "embedding_dim = 300\n",
    "\n",
    "# first create a matrix of zeros, this is our embedding matrix\n",
    "embedding_matrix = np.zeros((num_words, embedding_dim))\n",
    "\n",
    "# for each word in out tokenizer lets try to find that work in our w2v model\n",
    "for word, i in word_index.items():\n",
    "    if i > max_features:\n",
    "        continue\n",
    "    embedding_vector = embeddings_index.get(word)\n",
    "    if embedding_vector is not None:\n",
    "        # we found the word - add that words vector to the matrix\n",
    "        embedding_matrix[i] = embedding_vector\n",
    "    else:\n",
    "        # doesn't exist, assign a random vector\n",
    "        embedding_matrix[i] = np.random.randn(embedding_dim)"
   ]
  },
  {
   "cell_type": "code",
   "execution_count": 80,
   "metadata": {},
   "outputs": [
    {
     "data": {
      "text/plain": [
       "array([-1.53175091e+00, -2.72801742e-01, -3.69787806e-01, -6.20436375e-01,\n",
       "       -1.41377501e+00, -8.13059165e-01, -5.72278647e-02,  7.47100978e-01,\n",
       "       -1.33060046e+00,  2.52001646e-01, -7.84653625e-01, -9.50075018e-01,\n",
       "        1.91752744e+00, -6.25430207e-01,  4.15004878e-01,  6.66200339e-01,\n",
       "        9.12417930e-01, -9.57297047e-02,  4.39798732e-01,  1.78664677e-01,\n",
       "       -4.93002171e-01,  1.07069796e+00,  1.83140016e-01, -1.70334308e+00,\n",
       "       -3.38988314e-01,  1.64378791e+00,  6.11685776e-01, -9.06229523e-01,\n",
       "        1.53916974e+00, -1.74534094e+00,  4.09513241e-01, -2.33501969e+00,\n",
       "       -8.40940759e-02,  7.42771337e-01, -1.90792730e-01,  1.46902226e-02,\n",
       "        1.06540620e+00, -7.16024321e-01,  1.02800659e+00, -1.14940191e+00,\n",
       "       -8.55198119e-01,  1.32455171e+00,  6.19006167e-01,  1.06995758e-02,\n",
       "        1.20224386e-01, -6.93915410e-01,  1.86139586e+00, -7.76943913e-01,\n",
       "       -1.24316148e+00, -5.60003061e-01, -1.10972791e-01, -1.04877114e+00,\n",
       "       -4.08713749e-01, -1.48957342e+00, -1.39754080e+00, -1.34900862e+00,\n",
       "       -9.52642109e-01, -9.24776344e-02,  2.66272555e-02, -3.28937471e-02,\n",
       "        1.86693996e-01,  8.24937163e-04,  2.32269742e-01,  6.15691636e-01,\n",
       "        1.03046133e+00, -1.38096513e+00,  6.89411560e-01,  1.21587671e+00,\n",
       "        9.00713754e-01, -4.58861388e-01, -7.67574045e-02, -1.00689851e+00,\n",
       "        6.98698196e-01,  3.84935111e-01, -1.18670670e-01,  8.95849334e-01,\n",
       "       -7.02762238e-01,  1.49584403e+00, -4.67257596e-01,  1.67034163e+00,\n",
       "        1.62551474e-01,  1.66958637e+00, -9.23601338e-01, -1.72902177e+00,\n",
       "       -6.42635696e-02, -5.33571894e-01,  9.11365645e-01, -1.23109748e+00,\n",
       "        4.31488373e-01,  1.23594484e+00, -7.33679148e-01,  1.83136526e+00,\n",
       "        7.28643352e-01, -5.49258210e-01, -3.18488520e-01,  5.82497465e-02,\n",
       "        1.72486885e-01,  6.58246847e-01, -4.15886178e-01,  1.93242308e-01,\n",
       "       -2.59305186e-03,  2.02917326e-01,  1.01404967e-01,  1.23937913e+00,\n",
       "       -5.70152421e-02,  7.51803630e-01,  6.33445374e-01, -1.03253877e+00,\n",
       "        7.28319294e-02,  8.58984643e-01, -1.16136913e+00,  8.43003069e-01,\n",
       "        1.99883250e+00,  4.46560190e-01, -8.17171228e-01, -2.32959230e-01,\n",
       "        2.88023011e-01,  1.30808275e+00,  4.52260193e-01,  8.27798825e-02,\n",
       "        6.31729230e-01, -1.32193461e-01,  1.29411637e+00, -3.23884366e-02,\n",
       "       -5.36864310e-01, -5.77471882e-01,  1.06995756e+00, -1.51060125e+00,\n",
       "        1.25999998e+00, -5.08764851e-01, -1.24141806e-01,  1.82347318e+00,\n",
       "        2.16502789e+00,  5.75467929e-02, -8.80084440e-01, -2.19008366e-01,\n",
       "       -2.07879043e-01, -7.70925790e-01, -9.00812928e-01,  6.23753272e-02,\n",
       "        1.34853142e+00, -8.46561956e-01, -1.33201377e+00, -5.84441716e-01,\n",
       "       -2.42664521e+00,  1.12505846e+00, -3.31547734e-01,  5.46987414e-01,\n",
       "       -1.47549653e+00,  1.09326910e-01,  8.09410783e-01, -1.22486784e-01,\n",
       "        5.09945809e-01, -1.13352176e+00,  8.28463960e-01, -1.00140892e+00,\n",
       "        4.24810944e-01, -1.16287022e+00,  1.74859839e-01, -2.22807438e-01,\n",
       "        4.58346945e-01, -8.62853896e-02,  6.43405403e-01, -1.35820552e+00,\n",
       "       -1.49697706e+00,  6.87193295e-01,  9.04629579e-01,  1.38389994e+00,\n",
       "       -5.63775442e-01, -6.32781715e-01, -3.81735511e-01,  4.39328854e-01,\n",
       "        1.54525457e+00, -4.00528702e-01,  2.98583373e-01,  5.98524436e-01,\n",
       "        7.89202792e-01, -1.15710337e-01,  1.21480675e+00, -1.74806578e-01,\n",
       "        5.74405688e-01, -1.97544289e+00, -2.09456644e-01, -5.14333947e-01,\n",
       "       -1.81960302e+00,  1.40953782e+00,  3.21703836e-01,  8.50096729e-01,\n",
       "       -1.38321271e+00, -3.99730299e-01,  1.49725170e-01,  2.76651334e-01,\n",
       "       -4.24345634e-01, -2.61008085e-01,  1.66692523e+00, -1.29928415e+00,\n",
       "       -2.53936651e-01, -6.15729275e-01, -2.31667352e+00, -3.49727104e-01,\n",
       "       -6.29121865e-01,  6.56366952e-01, -8.00944571e-01,  1.15492713e+00,\n",
       "        1.48797641e+00,  8.58045924e-01,  8.87173987e-01, -5.32834584e-01,\n",
       "        2.18152765e+00,  6.95698119e-01,  4.30856910e-01, -6.28421338e-01,\n",
       "       -2.05373630e+00, -1.08378077e-01, -6.61977004e-01, -6.87606591e-01,\n",
       "       -1.36633405e+00,  3.81668864e-01,  1.05350725e+00, -3.86410149e-01,\n",
       "       -1.56894185e+00, -2.58452620e+00,  3.97048343e-01,  6.59272261e-02,\n",
       "        1.53165655e+00, -1.39401330e+00, -3.48978112e-01, -4.81784719e-01,\n",
       "        5.68176306e-02,  2.11988125e-01,  1.26095719e+00, -4.00889785e-01,\n",
       "        4.80997703e-01, -9.90428370e-01, -1.92124554e-01,  1.58554034e+00,\n",
       "       -9.78183502e-01, -8.45627281e-01,  7.22894252e-02, -9.22175918e-01,\n",
       "       -5.25008792e-01,  2.79965765e-01, -2.00308337e-01, -4.39676039e-01,\n",
       "        3.14770090e-02, -6.87428356e-01, -6.32903609e-01,  1.09706056e-02,\n",
       "       -1.63852531e+00,  1.20079941e+00, -2.62240804e-01, -5.95119535e-01,\n",
       "       -4.28924823e-01,  6.13598247e-01, -2.57862928e-01,  1.61350622e+00,\n",
       "       -4.38810182e-01,  8.03093526e-02, -8.83515126e-01,  2.37896742e-01,\n",
       "        4.40340296e-01,  1.77063777e+00, -1.41387246e+00, -1.95231044e+00,\n",
       "       -3.24003178e-02, -1.06743834e+00,  2.01224234e+00, -4.50427497e-01,\n",
       "        1.07689947e+00,  1.88330128e+00,  8.73137747e-01, -8.78626832e-01,\n",
       "        5.90013854e-02,  4.85479229e-01, -8.26825261e-01, -3.51088109e-01,\n",
       "        1.14639548e+00, -1.02956866e-01, -7.83558410e-01,  5.63119137e-01,\n",
       "       -7.14870889e-01,  6.24107743e-01, -9.99711793e-01,  1.75982493e+00,\n",
       "        2.08883646e+00, -7.94540028e-02,  1.44978193e+00, -1.46337837e+00,\n",
       "        7.50106759e-01,  9.54959676e-01,  3.83515765e-02, -1.58003509e+00,\n",
       "       -1.22278206e+00,  2.35741483e-01, -1.44065923e+00, -7.55046474e-01,\n",
       "        7.16919767e-01,  1.17373262e+00, -9.36179733e-01, -1.42406646e+00])"
      ]
     },
     "execution_count": 80,
     "metadata": {},
     "output_type": "execute_result"
    }
   ],
   "source": [
    "embedding_matrix[1]"
   ]
  },
  {
   "cell_type": "code",
   "execution_count": 83,
   "metadata": {},
   "outputs": [],
   "source": [
    "from keras.layers import GRU,Embedding,Dense\n",
    "from keras.models import Sequential"
   ]
  },
  {
   "cell_type": "code",
   "execution_count": 84,
   "metadata": {},
   "outputs": [
    {
     "name": "stdout",
     "output_type": "stream",
     "text": [
      "_________________________________________________________________\n",
      "Layer (type)                 Output Shape              Param #   \n",
      "=================================================================\n",
      "embedding_4 (Embedding)      (None, 100, 300)          6000300   \n",
      "_________________________________________________________________\n",
      "gru_5 (GRU)                  (None, 100, 256)          427776    \n",
      "_________________________________________________________________\n",
      "gru_6 (GRU)                  (None, 128)               147840    \n",
      "_________________________________________________________________\n",
      "dense_1 (Dense)              (None, 3)                 387       \n",
      "=================================================================\n",
      "Total params: 6,576,303\n",
      "Trainable params: 6,576,303\n",
      "Non-trainable params: 0\n",
      "_________________________________________________________________\n",
      "None\n"
     ]
    }
   ],
   "source": [
    "model = Sequential()\n",
    "model.add(Embedding(num_words,\n",
    "                    embedding_dim,\n",
    "                    weights=[embedding_matrix],\n",
    "                    input_length=sequence_length,\n",
    "                    trainable=True))\n",
    "model.add(GRU(256,activation=\"tanh\",return_sequences=True))\n",
    "model.add(GRU(128,activation=\"tanh\"))\n",
    "model.add(Dense(units=3, activation='softmax'))\n",
    "model.compile(loss = 'categorical_crossentropy', optimizer='adam',metrics = ['accuracy'])\n",
    "print(model.summary())"
   ]
  },
  {
   "cell_type": "code",
   "execution_count": 85,
   "metadata": {},
   "outputs": [
    {
     "name": "stdout",
     "output_type": "stream",
     "text": [
      "Train on 318087 samples, validate on 35344 samples\n",
      "Epoch 1/5\n",
      "318087/318087 [==============================] - 2795s 9ms/step - loss: 0.9198 - acc: 0.5539 - val_loss: 0.8624 - val_acc: 0.5978\n",
      "Epoch 2/5\n",
      "318087/318087 [==============================] - 3063s 10ms/step - loss: 0.7969 - acc: 0.6393 - val_loss: 0.8277 - val_acc: 0.6226\n",
      "Epoch 3/5\n",
      "318087/318087 [==============================] - 3165s 10ms/step - loss: 0.6999 - acc: 0.6956 - val_loss: 0.8640 - val_acc: 0.6135\n",
      "Epoch 4/5\n",
      "318087/318087 [==============================] - 9991s 31ms/step - loss: 0.5897 - acc: 0.7524 - val_loss: 0.9306 - val_acc: 0.6080\n",
      "Epoch 5/5\n",
      "318087/318087 [==============================] - 2801s 9ms/step - loss: 0.4676 - acc: 0.8107 - val_loss: 1.0723 - val_acc: 0.5914\n"
     ]
    }
   ],
   "source": [
    "batch_size = 128\n",
    "history = model.fit(X_train, y_train, epochs=5, batch_size=batch_size, verbose=1, validation_split=0.1)\n"
   ]
  },
  {
   "cell_type": "code",
   "execution_count": null,
   "metadata": {},
   "outputs": [],
   "source": []
  }
 ],
 "metadata": {
  "kernelspec": {
   "display_name": "Python 3",
   "language": "python",
   "name": "python3"
  },
  "language_info": {
   "codemirror_mode": {
    "name": "ipython",
    "version": 3
   },
   "file_extension": ".py",
   "mimetype": "text/x-python",
   "name": "python",
   "nbconvert_exporter": "python",
   "pygments_lexer": "ipython3",
   "version": "3.6.8"
  }
 },
 "nbformat": 4,
 "nbformat_minor": 2
}
